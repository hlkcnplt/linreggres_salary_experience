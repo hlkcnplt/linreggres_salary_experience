{
 "cells": [
  {
   "cell_type": "code",
   "execution_count": 1,
   "id": "80b63070",
   "metadata": {
    "_cell_guid": "b1076dfc-b9ad-4769-8c92-a6c4dae69d19",
    "_uuid": "8f2839f25d086af736a60e9eeb907d3b93b6e0e5",
    "execution": {
     "iopub.execute_input": "2023-11-22T10:55:54.385118Z",
     "iopub.status.busy": "2023-11-22T10:55:54.384667Z",
     "iopub.status.idle": "2023-11-22T10:55:56.341812Z",
     "shell.execute_reply": "2023-11-22T10:55:56.340540Z"
    },
    "papermill": {
     "duration": 1.967071,
     "end_time": "2023-11-22T10:55:56.344522",
     "exception": false,
     "start_time": "2023-11-22T10:55:54.377451",
     "status": "completed"
    },
    "tags": []
   },
   "outputs": [
    {
     "name": "stdout",
     "output_type": "stream",
     "text": [
      "/kaggle/input/salary-dataset-simple-linear-regression/Salary_dataset.csv\n"
     ]
    }
   ],
   "source": [
    "# This Python 3 environment comes with many helpful analytics libraries installed\n",
    "# It is defined by the kaggle/python Docker image: https://github.com/kaggle/docker-python\n",
    "# For example, here's several helpful packages to load\n",
    "\n",
    "import numpy as np # linear algebra\n",
    "import pandas as pd # data processing, CSV file I/O (e.g. pd.read_csv)\n",
    "import matplotlib.pyplot as plt\n",
    "from sklearn.linear_model import LinearRegression\n",
    "\n",
    "# Input data files are available in the read-only \"../input/\" directory\n",
    "# For example, running this (by clicking run or pressing Shift+Enter) will list all files under the input directory\n",
    "\n",
    "import os\n",
    "for dirname, _, filenames in os.walk('/kaggle/input'):\n",
    "    for filename in filenames:\n",
    "        print(os.path.join(dirname, filename))\n",
    "\n",
    "# You can write up to 20GB to the current directory (/kaggle/working/) that gets preserved as output when you create a version using \"Save & Run All\" \n",
    "# You can also write temporary files to /kaggle/temp/, but they won't be saved outside of the current session"
   ]
  },
  {
   "cell_type": "code",
   "execution_count": 2,
   "id": "35825f5f",
   "metadata": {
    "execution": {
     "iopub.execute_input": "2023-11-22T10:55:56.359547Z",
     "iopub.status.busy": "2023-11-22T10:55:56.358983Z",
     "iopub.status.idle": "2023-11-22T10:55:56.378294Z",
     "shell.execute_reply": "2023-11-22T10:55:56.377080Z"
    },
    "papermill": {
     "duration": 0.028919,
     "end_time": "2023-11-22T10:55:56.381225",
     "exception": false,
     "start_time": "2023-11-22T10:55:56.352306",
     "status": "completed"
    },
    "tags": []
   },
   "outputs": [],
   "source": [
    "df = pd.read_csv('/kaggle/input/salary-dataset-simple-linear-regression/Salary_dataset.csv')"
   ]
  },
  {
   "cell_type": "code",
   "execution_count": 3,
   "id": "5d920472",
   "metadata": {
    "execution": {
     "iopub.execute_input": "2023-11-22T10:55:56.393944Z",
     "iopub.status.busy": "2023-11-22T10:55:56.393493Z",
     "iopub.status.idle": "2023-11-22T10:55:56.419987Z",
     "shell.execute_reply": "2023-11-22T10:55:56.418677Z"
    },
    "papermill": {
     "duration": 0.035984,
     "end_time": "2023-11-22T10:55:56.422518",
     "exception": false,
     "start_time": "2023-11-22T10:55:56.386534",
     "status": "completed"
    },
    "tags": []
   },
   "outputs": [
    {
     "data": {
      "text/html": [
       "<div>\n",
       "<style scoped>\n",
       "    .dataframe tbody tr th:only-of-type {\n",
       "        vertical-align: middle;\n",
       "    }\n",
       "\n",
       "    .dataframe tbody tr th {\n",
       "        vertical-align: top;\n",
       "    }\n",
       "\n",
       "    .dataframe thead th {\n",
       "        text-align: right;\n",
       "    }\n",
       "</style>\n",
       "<table border=\"1\" class=\"dataframe\">\n",
       "  <thead>\n",
       "    <tr style=\"text-align: right;\">\n",
       "      <th></th>\n",
       "      <th>Unnamed: 0</th>\n",
       "      <th>YearsExperience</th>\n",
       "      <th>Salary</th>\n",
       "    </tr>\n",
       "  </thead>\n",
       "  <tbody>\n",
       "    <tr>\n",
       "      <th>0</th>\n",
       "      <td>0</td>\n",
       "      <td>1.2</td>\n",
       "      <td>39344.0</td>\n",
       "    </tr>\n",
       "    <tr>\n",
       "      <th>1</th>\n",
       "      <td>1</td>\n",
       "      <td>1.4</td>\n",
       "      <td>46206.0</td>\n",
       "    </tr>\n",
       "    <tr>\n",
       "      <th>2</th>\n",
       "      <td>2</td>\n",
       "      <td>1.6</td>\n",
       "      <td>37732.0</td>\n",
       "    </tr>\n",
       "    <tr>\n",
       "      <th>3</th>\n",
       "      <td>3</td>\n",
       "      <td>2.1</td>\n",
       "      <td>43526.0</td>\n",
       "    </tr>\n",
       "    <tr>\n",
       "      <th>4</th>\n",
       "      <td>4</td>\n",
       "      <td>2.3</td>\n",
       "      <td>39892.0</td>\n",
       "    </tr>\n",
       "  </tbody>\n",
       "</table>\n",
       "</div>"
      ],
      "text/plain": [
       "   Unnamed: 0  YearsExperience   Salary\n",
       "0           0              1.2  39344.0\n",
       "1           1              1.4  46206.0\n",
       "2           2              1.6  37732.0\n",
       "3           3              2.1  43526.0\n",
       "4           4              2.3  39892.0"
      ]
     },
     "execution_count": 3,
     "metadata": {},
     "output_type": "execute_result"
    }
   ],
   "source": [
    "df.head(5)"
   ]
  },
  {
   "cell_type": "code",
   "execution_count": 4,
   "id": "19ae1716",
   "metadata": {
    "execution": {
     "iopub.execute_input": "2023-11-22T10:55:56.436039Z",
     "iopub.status.busy": "2023-11-22T10:55:56.435624Z",
     "iopub.status.idle": "2023-11-22T10:55:56.844906Z",
     "shell.execute_reply": "2023-11-22T10:55:56.843801Z"
    },
    "papermill": {
     "duration": 0.418976,
     "end_time": "2023-11-22T10:55:56.847471",
     "exception": false,
     "start_time": "2023-11-22T10:55:56.428495",
     "status": "completed"
    },
    "tags": []
   },
   "outputs": [
    {
     "data": {
      "text/plain": [
       "<function matplotlib.pyplot.show(close=None, block=None)>"
      ]
     },
     "execution_count": 4,
     "metadata": {},
     "output_type": "execute_result"
    },
    {
     "data": {
      "image/png": "[encoded data removed]",
      "text/plain": [
       "<Figure size 640x480 with 1 Axes>"
      ]
     },
     "metadata": {},
     "output_type": "display_data"
    }
   ],
   "source": [
    "x = np.asanyarray(df[['YearsExperience']])\n",
    "y = np.asanyarray(df[['Salary']])\n",
    "\n",
    "plt.scatter(x, y)\n",
    "plt.show"
   ]
  },
  {
   "cell_type": "code",
   "execution_count": 5,
   "id": "8d4b23c7",
   "metadata": {
    "execution": {
     "iopub.execute_input": "2023-11-22T10:55:56.861207Z",
     "iopub.status.busy": "2023-11-22T10:55:56.860790Z",
     "iopub.status.idle": "2023-11-22T10:55:56.883807Z",
     "shell.execute_reply": "2023-11-22T10:55:56.882754Z"
    },
    "papermill": {
     "duration": 0.032846,
     "end_time": "2023-11-22T10:55:56.886344",
     "exception": false,
     "start_time": "2023-11-22T10:55:56.853498",
     "status": "completed"
    },
    "tags": []
   },
   "outputs": [
    {
     "data": {
      "text/plain": [
       "0.9569566641435086"
      ]
     },
     "execution_count": 5,
     "metadata": {},
     "output_type": "execute_result"
    }
   ],
   "source": [
    "reg = LinearRegression().fit(x, y)\n",
    "\n",
    "reg.score(x, y)"
   ]
  },
  {
   "cell_type": "code",
   "execution_count": 6,
   "id": "c5fbca11",
   "metadata": {
    "execution": {
     "iopub.execute_input": "2023-11-22T10:55:56.900646Z",
     "iopub.status.busy": "2023-11-22T10:55:56.900240Z",
     "iopub.status.idle": "2023-11-22T10:55:56.908418Z",
     "shell.execute_reply": "2023-11-22T10:55:56.907222Z"
    },
    "papermill": {
     "duration": 0.018313,
     "end_time": "2023-11-22T10:55:56.910829",
     "exception": false,
     "start_time": "2023-11-22T10:55:56.892516",
     "status": "completed"
    },
    "tags": []
   },
   "outputs": [
    {
     "data": {
      "text/plain": [
       "array([[53198.09093089]])"
      ]
     },
     "execution_count": 6,
     "metadata": {},
     "output_type": "execute_result"
    }
   ],
   "source": [
    "# Prediction with sklearn\n",
    "reg.predict(np.array([[3,]]))"
   ]
  },
  {
   "cell_type": "code",
   "execution_count": 7,
   "id": "127a0115",
   "metadata": {
    "execution": {
     "iopub.execute_input": "2023-11-22T10:55:56.925644Z",
     "iopub.status.busy": "2023-11-22T10:55:56.924828Z",
     "iopub.status.idle": "2023-11-22T10:55:56.933932Z",
     "shell.execute_reply": "2023-11-22T10:55:56.932715Z"
    },
    "papermill": {
     "duration": 0.019438,
     "end_time": "2023-11-22T10:55:56.936518",
     "exception": false,
     "start_time": "2023-11-22T10:55:56.917080",
     "status": "completed"
    },
    "tags": []
   },
   "outputs": [
    {
     "name": "stdout",
     "output_type": "stream",
     "text": [
      "9449.962321455077 24848.203966523193\n"
     ]
    }
   ],
   "source": [
    "# Start of my linear regression code\n",
    "\n",
    "# initializing input(x) and output(y) values\n",
    "X = df['YearsExperience'].values\n",
    "Y = df['Salary'].values\n",
    "\n",
    "# mean of input and output values\n",
    "x_mean = np.mean(X)\n",
    "y_mean = np.mean(Y)\n",
    "\n",
    "# total number of values\n",
    "n = len(X)\n",
    "\n",
    "# b1 and b0 formula for calculation\n",
    "numerator = 0\n",
    "denominator = 0\n",
    "for i in range(n):\n",
    "    numerator += (X[i] - x_mean) * (Y[i] - y_mean)\n",
    "    denominator += (X[i] - x_mean) ** 2\n",
    "    \n",
    "b1 = numerator / denominator\n",
    "b0 = y_mean - (b1 * x_mean)\n",
    "\n",
    "# printing the coefficient\n",
    "print(b1, b0)"
   ]
  },
  {
   "cell_type": "code",
   "execution_count": 8,
   "id": "9af74d99",
   "metadata": {
    "execution": {
     "iopub.execute_input": "2023-11-22T10:55:56.951410Z",
     "iopub.status.busy": "2023-11-22T10:55:56.950982Z",
     "iopub.status.idle": "2023-11-22T10:55:57.258712Z",
     "shell.execute_reply": "2023-11-22T10:55:57.257752Z"
    },
    "papermill": {
     "duration": 0.318022,
     "end_time": "2023-11-22T10:55:57.261093",
     "exception": false,
     "start_time": "2023-11-22T10:55:56.943071",
     "status": "completed"
    },
    "tags": []
   },
   "outputs": [
    {
     "data": {
      "image/png": "[encoded data removed]",
      "text/plain": [
       "<Figure size 640x480 with 1 Axes>"
      ]
     },
     "metadata": {},
     "output_type": "display_data"
    }
   ],
   "source": [
    "#plotting values \n",
    "x_max = np.max(X)\n",
    "x_min = np.min(X)\n",
    "\n",
    "#calculating line values of x and y\n",
    "x = np.linspace(x_min, x_max, 1000)\n",
    "y = b0 + b1 * x\n",
    "\n",
    "#plotting line \n",
    "plt.plot(x, y, color='#00ff00', label='Linear Regression')\n",
    "\n",
    "#plot the data point\n",
    "plt.scatter(X, Y, color='#ff0000', label='Data Point')\n",
    "\n",
    "# x-axis label\n",
    "plt.xlabel('Years of Experience')\n",
    "\n",
    "#y-axis label\n",
    "plt.ylabel('Salary')\n",
    "plt.legend()\n",
    "plt.show()"
   ]
  },
  {
   "cell_type": "markdown",
   "id": "c4c1ff70",
   "metadata": {
    "papermill": {
     "duration": 0.00677,
     "end_time": "2023-11-22T10:55:57.275287",
     "exception": false,
     "start_time": "2023-11-22T10:55:57.268517",
     "status": "completed"
    },
    "tags": []
   },
   "source": [
    "![](https://miro.medium.com/v2/resize:fit:654/format:webp/1*SGBsn7WytmYYbuTgDatIpw.gif)"
   ]
  },
  {
   "cell_type": "code",
   "execution_count": 9,
   "id": "2b9aaf9c",
   "metadata": {
    "execution": {
     "iopub.execute_input": "2023-11-22T10:55:57.291746Z",
     "iopub.status.busy": "2023-11-22T10:55:57.291035Z",
     "iopub.status.idle": "2023-11-22T10:55:57.297537Z",
     "shell.execute_reply": "2023-11-22T10:55:57.296471Z"
    },
    "papermill": {
     "duration": 0.017575,
     "end_time": "2023-11-22T10:55:57.299899",
     "exception": false,
     "start_time": "2023-11-22T10:55:57.282324",
     "status": "completed"
    },
    "tags": []
   },
   "outputs": [
    {
     "name": "stdout",
     "output_type": "stream",
     "text": [
      "5592.0436087606595\n"
     ]
    }
   ],
   "source": [
    "# Root Mean Squared Error\n",
    "rmse = 0\n",
    "for i in range(n):\n",
    "    y_pred = b0 + b1 * X[i]\n",
    "    rmse += (Y[i] - y_pred) ** 2\n",
    "    \n",
    "rmse = np.sqrt(rmse/n)\n",
    "print(rmse)"
   ]
  },
  {
   "cell_type": "markdown",
   "id": "edaa2219",
   "metadata": {
    "papermill": {
     "duration": 0.006911,
     "end_time": "2023-11-22T10:55:57.314528",
     "exception": false,
     "start_time": "2023-11-22T10:55:57.307617",
     "status": "completed"
    },
    "tags": []
   },
   "source": [
    "![](https://miro.medium.com/v2/resize:fit:636/format:webp/1*eebOVNcNlkwqM-fWjzmOLg.gif)"
   ]
  },
  {
   "cell_type": "code",
   "execution_count": 10,
   "id": "97a2c6f9",
   "metadata": {
    "execution": {
     "iopub.execute_input": "2023-11-22T10:55:57.331315Z",
     "iopub.status.busy": "2023-11-22T10:55:57.330394Z",
     "iopub.status.idle": "2023-11-22T10:55:57.338604Z",
     "shell.execute_reply": "2023-11-22T10:55:57.337428Z"
    },
    "papermill": {
     "duration": 0.019979,
     "end_time": "2023-11-22T10:55:57.341672",
     "exception": false,
     "start_time": "2023-11-22T10:55:57.321693",
     "status": "completed"
    },
    "tags": []
   },
   "outputs": [
    {
     "name": "stdout",
     "output_type": "stream",
     "text": [
      "0.9569566641435086\n"
     ]
    }
   ],
   "source": [
    "# R² score is accuracy of linear model, it goes 0 <= R² <= 1\n",
    "\n",
    "sumofsquares = 0\n",
    "sumofresiduals = 0\n",
    "\n",
    "for i in range(n):\n",
    "    y_pred = b0 + b1 * X[i]\n",
    "    sumofsquares += (Y[i] - y_mean) ** 2\n",
    "    sumofresiduals += (Y[i] - y_pred) ** 2\n",
    "    \n",
    "score = 1 - (sumofresiduals/sumofsquares)\n",
    "print(score)"
   ]
  },
  {
   "cell_type": "code",
   "execution_count": null,
   "id": "28144506",
   "metadata": {
    "papermill": {
     "duration": 0.007081,
     "end_time": "2023-11-22T10:55:57.356258",
     "exception": false,
     "start_time": "2023-11-22T10:55:57.349177",
     "status": "completed"
    },
    "tags": []
   },
   "outputs": [],
   "source": []
  }
 ],
 "metadata": {
  "kaggle": {
   "accelerator": "none",
   "dataSources": [
    {
     "datasetId": 2799910,
     "sourceId": 4832081,
     "sourceType": "datasetVersion"
    }
   ],
   "dockerImageVersionId": 30587,
   "isGpuEnabled": false,
   "isInternetEnabled": false,
   "language": "python",
   "sourceType": "notebook"
  },
  "kernelspec": {
   "display_name": "Python 3",
   "language": "python",
   "name": "python3"
  },
  "language_info": {
   "codemirror_mode": {
    "name": "ipython",
    "version": 3
   },
   "file_extension": ".py",
   "mimetype": "text/x-python",
   "name": "python",
   "nbconvert_exporter": "python",
   "pygments_lexer": "ipython3",
   "version": "3.10.12"
  },
  "papermill": {
   "default_parameters": {},
   "duration": 7.191094,
   "end_time": "2023-11-22T10:55:57.985954",
   "environment_variables": {},
   "exception": null,
   "input_path": "__notebook__.ipynb",
   "output_path": "__notebook__.ipynb",
   "parameters": {},
   "start_time": "2023-11-22T10:55:50.794860",
   "version": "2.4.0"
  }
 },
 "nbformat": 4,
 "nbformat_minor": 5
}
